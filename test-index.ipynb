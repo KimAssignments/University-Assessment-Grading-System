{
 "cells": [
  {
   "attachments": {},
   "cell_type": "markdown",
   "metadata": {},
   "source": [
    "# START"
   ]
  },
  {
   "cell_type": "code",
   "execution_count": 1,
   "metadata": {},
   "outputs": [],
   "source": [
    "from src import Courses, Students, Results, User\n",
    "from tabulate import tabulate\n",
    "from random import randint, choice"
   ]
  },
  {
   "attachments": {},
   "cell_type": "markdown",
   "metadata": {},
   "source": [
    "## Courses Section"
   ]
  },
  {
   "cell_type": "code",
   "execution_count": 2,
   "metadata": {},
   "outputs": [],
   "source": [
    "courses = Courses()"
   ]
  },
  {
   "attachments": {},
   "cell_type": "markdown",
   "metadata": {},
   "source": [
    "#### Appending"
   ]
  },
  {
   "cell_type": "code",
   "execution_count": 22,
   "metadata": {},
   "outputs": [
    {
     "name": "stderr",
     "output_type": "stream",
     "text": [
      "Courses: CSC 105 appended successfully.\n",
      "Courses: Code already exists: CSC 105\n"
     ]
    }
   ],
   "source": [
    "i = randint(1, 9)\n",
    "code = f'CSC 10{i}'\n",
    "\n",
    "# If not exist\n",
    "courses.append(code)\n",
    "\n",
    "# If existing\n",
    "courses.append(code)"
   ]
  },
  {
   "attachments": {},
   "cell_type": "markdown",
   "metadata": {},
   "source": [
    "#### Deleting"
   ]
  },
  {
   "cell_type": "code",
   "execution_count": 23,
   "metadata": {},
   "outputs": [
    {
     "name": "stderr",
     "output_type": "stream",
     "text": [
      "Courses: CSC 104 deleted successfully.\n",
      "Courses: Code not exists: CSC 104\n"
     ]
    }
   ],
   "source": [
    "i = randint(1, 9)\n",
    "code = f'CSC 10{i}'\n",
    "\n",
    "# If existing\n",
    "courses.delete(code)\n",
    "\n",
    "# If not exist\n",
    "courses.delete(code)"
   ]
  },
  {
   "attachments": {},
   "cell_type": "markdown",
   "metadata": {},
   "source": [
    "#### Editing"
   ]
  },
  {
   "cell_type": "code",
   "execution_count": 24,
   "metadata": {},
   "outputs": [
    {
     "name": "stderr",
     "output_type": "stream",
     "text": [
      "Courses: Code not exists: Probably not exists\n",
      "Courses: Code already exists: CSC 109\n",
      "Courses: CSC 109 edited successfully. name = Computer Science\n",
      "Courses: Key not in whitelist: Wrong key\n"
     ]
    },
    {
     "name": "stdout",
     "output_type": "stream",
     "text": [
      "|         |   A1_convert |   A1_total |   A2_convert |   A2_total |   FE |   T1_convert |   T1_total |   T2_convert |   T2_total |   credits |   days |   description |   instructor |   location | name             |   section |   time |\n",
      "|:--------|-------------:|-----------:|-------------:|-----------:|-----:|-------------:|-----------:|-------------:|-----------:|----------:|-------:|--------------:|-------------:|-----------:|:-----------------|----------:|-------:|\n",
      "| CSC 109 |          nan |        nan |          nan |        nan |  nan |          nan |        nan |          nan |        nan |       nan |    nan |           nan |          nan |        nan | Computer Science |       nan |    nan |\n"
     ]
    }
   ],
   "source": [
    "# If not exists code\n",
    "code = 'Probably not exists'\n",
    "courses.edit(code, **{'name': 'Computer Science'})\n",
    "\n",
    "# If exists code\n",
    "i = randint(1, 9)\n",
    "code = f'CSC 10{i}'\n",
    "courses.append(code) # Just to make sure it exists\n",
    "courses.edit(code, **{'name': 'Computer Science'})\n",
    "df = courses.view(code) # A function to view the course\n",
    "print(df.to_markdown())\n",
    "\n",
    "# If key is not in whitelist\n",
    "courses.edit(code, **{'Wrong key': 'Failure'})"
   ]
  },
  {
   "attachments": {},
   "cell_type": "markdown",
   "metadata": {},
   "source": [
    "#### Searching"
   ]
  },
  {
   "cell_type": "code",
   "execution_count": 6,
   "metadata": {},
   "outputs": [
    {
     "name": "stdout",
     "output_type": "stream",
     "text": [
      "+--------------+------------+--------------+------------+------+--------------+------------+--------------+------------+-----------+--------+---------------+--------------+------------+--------+-----------+--------+\n",
      "| A1_convert   | A1_total   | A2_convert   | A2_total   | FE   | T1_convert   | T1_total   | T2_convert   | T2_total   | credits   | days   | description   | instructor   | location   | name   | section   | time   |\n",
      "|--------------+------------+--------------+------------+------+--------------+------------+--------------+------------+-----------+--------+---------------+--------------+------------+--------+-----------+--------|\n",
      "+--------------+------------+--------------+------------+------+--------------+------------+--------------+------------+-----------+--------+---------------+--------------+------------+--------+-----------+--------+\n",
      "+---------+--------------+------------+--------------+------------+------+--------------+------------+--------------+------------+-----------+--------+---------------+--------------+------------+------------------+-----------+--------+\n",
      "|         |   A1_convert |   A1_total |   A2_convert |   A2_total |   FE |   T1_convert |   T1_total |   T2_convert |   T2_total |   credits |   days |   description |   instructor |   location | name             |   section |   time |\n",
      "|---------+--------------+------------+--------------+------------+------+--------------+------------+--------------+------------+-----------+--------+---------------+--------------+------------+------------------+-----------+--------|\n",
      "| CSC 109 |          nan |        nan |          nan |        nan |  nan |          nan |        nan |          nan |        nan |       nan |    nan |           nan |          nan |        nan | nan              |       nan |    nan |\n",
      "| CSC 106 |          nan |        nan |          nan |        nan |  nan |          nan |        nan |          nan |        nan |       nan |    nan |           nan |          nan |        nan | Computer Science |       nan |    nan |\n",
      "+---------+--------------+------------+--------------+------------+------+--------------+------------+--------------+------------+-----------+--------+---------------+--------------+------------+------------------+-----------+--------+\n"
     ]
    }
   ],
   "source": [
    "# If not exists code\n",
    "code = 'Probably not exists'\n",
    "df = courses.search(code)\n",
    "\n",
    "print(\n",
    "    tabulate(\n",
    "        df,\n",
    "        headers='keys',\n",
    "        tablefmt='psql',\n",
    "        missingval='N/A',\n",
    "    )\n",
    ")\n",
    "\n",
    "# If exists code\n",
    "code = f'CSC 10'\n",
    "df = courses.search(code)\n",
    "\n",
    "print(\n",
    "    tabulate(\n",
    "        df,\n",
    "        headers='keys',\n",
    "        tablefmt='psql',\n",
    "        missingval='N/A',\n",
    "    )\n",
    ")"
   ]
  },
  {
   "cell_type": "code",
   "execution_count": 7,
   "metadata": {},
   "outputs": [
    {
     "name": "stdout",
     "output_type": "stream",
     "text": [
      "+---------+--------------+------------+--------------+------------+------+--------------+------------+--------------+------------+-----------+--------+---------------+--------------+------------+------------------+-----------+--------+\n",
      "|         |   A1_convert |   A1_total |   A2_convert |   A2_total |   FE |   T1_convert |   T1_total |   T2_convert |   T2_total |   credits |   days |   description |   instructor |   location | name             |   section |   time |\n",
      "|---------+--------------+------------+--------------+------------+------+--------------+------------+--------------+------------+-----------+--------+---------------+--------------+------------+------------------+-----------+--------|\n",
      "| CSC 109 |          nan |        nan |          nan |        nan |  nan |          nan |        nan |          nan |        nan |       nan |    nan |           nan |          nan |        nan | nan              |       nan |    nan |\n",
      "| CSC 106 |          nan |        nan |          nan |        nan |  nan |          nan |        nan |          nan |        nan |       nan |    nan |           nan |          nan |        nan | Computer Science |       nan |    nan |\n",
      "+---------+--------------+------------+--------------+------------+------+--------------+------------+--------------+------------+-----------+--------+---------------+--------------+------------+------------------+-----------+--------+\n"
     ]
    }
   ],
   "source": [
    "# Search for all code\n",
    "code = f'' # Empty string to search for all\n",
    "df = courses.search(code)\n",
    "\n",
    "print(\n",
    "    tabulate(\n",
    "        df,\n",
    "        headers='keys',\n",
    "        tablefmt='psql',\n",
    "        missingval='N/A',\n",
    "    )\n",
    ")"
   ]
  },
  {
   "attachments": {},
   "cell_type": "markdown",
   "metadata": {},
   "source": [
    "#### View a specific entry"
   ]
  },
  {
   "cell_type": "code",
   "execution_count": 8,
   "metadata": {},
   "outputs": [
    {
     "name": "stderr",
     "output_type": "stream",
     "text": [
      "Courses: CSC 107 appended successfully.\n"
     ]
    },
    {
     "name": "stdout",
     "output_type": "stream",
     "text": [
      "+---------+--------------+------------+--------------+------------+------+--------------+------------+--------------+------------+-----------+--------+---------------+--------------+------------+--------+-----------+--------+\n",
      "|         |   A1_convert |   A1_total |   A2_convert |   A2_total |   FE |   T1_convert |   T1_total |   T2_convert |   T2_total |   credits |   days |   description |   instructor |   location |   name |   section |   time |\n",
      "|---------+--------------+------------+--------------+------------+------+--------------+------------+--------------+------------+-----------+--------+---------------+--------------+------------+--------+-----------+--------|\n",
      "| CSC 107 |          nan |        nan |          nan |        nan |  nan |          nan |        nan |          nan |        nan |       nan |    nan |           nan |          nan |        nan |    nan |       nan |    nan |\n",
      "+---------+--------------+------------+--------------+------------+------+--------------+------------+--------------+------------+-----------+--------+---------------+--------------+------------+--------+-----------+--------+\n"
     ]
    }
   ],
   "source": [
    "# If not exists code\n",
    "code = 'Probably not exists'\n",
    "df = courses.view(code) # Returns a NoneType object\n",
    "\n",
    "# If exists code\n",
    "i = randint(1, 9)\n",
    "code = f'CSC 10{i}'\n",
    "courses.append(code) # Just to make sure it exists\n",
    "df = courses.view(code) # Returns a DataFrame object\n",
    "print(\n",
    "    tabulate(\n",
    "        df,\n",
    "        headers='keys',\n",
    "        tablefmt='psql',\n",
    "        missingval='N/A',\n",
    "    )\n",
    ")"
   ]
  },
  {
   "attachments": {},
   "cell_type": "markdown",
   "metadata": {},
   "source": [
    "## Students Section\n"
   ]
  },
  {
   "cell_type": "code",
   "execution_count": 9,
   "metadata": {},
   "outputs": [],
   "source": [
    "students = Students()"
   ]
  },
  {
   "attachments": {},
   "cell_type": "markdown",
   "metadata": {},
   "source": [
    "#### Appending"
   ]
  },
  {
   "cell_type": "code",
   "execution_count": 90,
   "metadata": {},
   "outputs": [
    {
     "name": "stderr",
     "output_type": "stream",
     "text": [
      "Students: 22USC106 appended successfully.\n",
      "Students: Code already exists: 22USC106\n"
     ]
    }
   ],
   "source": [
    "i = randint(1, 9)\n",
    "code = f'22USC10{i}'\n",
    "\n",
    "# If not exist\n",
    "students.append(code)\n",
    "\n",
    "# If existing\n",
    "students.append(code)"
   ]
  },
  {
   "attachments": {},
   "cell_type": "markdown",
   "metadata": {},
   "source": [
    "#### Deleting"
   ]
  },
  {
   "cell_type": "code",
   "execution_count": 28,
   "metadata": {},
   "outputs": [
    {
     "name": "stderr",
     "output_type": "stream",
     "text": [
      "Students: 22USC108 deleted successfully.\n",
      "Students: Code not exists: 22USC108\n"
     ]
    }
   ],
   "source": [
    "i = randint(1, 9)\n",
    "code = f'22USC10{i}'\n",
    "\n",
    "# If existing\n",
    "students.delete(code)\n",
    "\n",
    "# If not exist\n",
    "students.delete(code)"
   ]
  },
  {
   "attachments": {},
   "cell_type": "markdown",
   "metadata": {},
   "source": [
    "#### Editing"
   ]
  },
  {
   "cell_type": "code",
   "execution_count": 29,
   "metadata": {},
   "outputs": [
    {
     "name": "stderr",
     "output_type": "stream",
     "text": [
      "Students: Code not exists: Probably not exists\n",
      "Students: 22USC108 appended successfully.\n",
      "Students: 22USC108 edited successfully. name = Abang Adik\n",
      "Students: Key not in whitelist: Wrong key\n"
     ]
    },
    {
     "name": "stdout",
     "output_type": "stream",
     "text": [
      "|          |   address |   city |   country |   email |   id | name       |   phone |   state |   zip |\n",
      "|:---------|----------:|-------:|----------:|--------:|-----:|:-----------|--------:|--------:|------:|\n",
      "| 22USC108 |       nan |    nan |       nan |     nan |  nan | Abang Adik |     nan |     nan |   nan |\n"
     ]
    }
   ],
   "source": [
    "# If not exists code\n",
    "code = 'Probably not exists'\n",
    "students.edit(code, **{'name': 'Abang Adik'})\n",
    "\n",
    "# If exists code\n",
    "i = randint(1, 9)\n",
    "code = f'22USC10{i}'\n",
    "students.append(code) # Just to make sure it exists\n",
    "students.edit(code, **{'name': 'Abang Adik'})\n",
    "df = students.view(code) # A function to view the course\n",
    "print(df.to_markdown())\n",
    "\n",
    "# If key is not in whitelist\n",
    "students.edit(code, **{'Wrong key': 'Failure'})"
   ]
  },
  {
   "attachments": {},
   "cell_type": "markdown",
   "metadata": {},
   "source": [
    "#### Searching"
   ]
  },
  {
   "cell_type": "code",
   "execution_count": 30,
   "metadata": {},
   "outputs": [
    {
     "name": "stdout",
     "output_type": "stream",
     "text": [
      "+-----------+--------+-----------+---------+------+--------+---------+---------+-------+\n",
      "| address   | city   | country   | email   | id   | name   | phone   | state   | zip   |\n",
      "|-----------+--------+-----------+---------+------+--------+---------+---------+-------|\n",
      "+-----------+--------+-----------+---------+------+--------+---------+---------+-------+\n",
      "+----------+-----------+--------+-----------+---------+------+------------+---------+---------+-------+\n",
      "|          |   address |   city |   country |   email |   id | name       |   phone |   state |   zip |\n",
      "|----------+-----------+--------+-----------+---------+------+------------+---------+---------+-------|\n",
      "| 22USC109 |       nan |    nan |       nan |     nan |  nan | Abang      |     nan |     nan |   nan |\n",
      "| 22USC104 |       nan |    nan |       nan |     nan |  nan | nan        |     nan |     nan |   nan |\n",
      "| 22USC107 |       nan |    nan |       nan |     nan |  nan | nan        |     nan |     nan |   nan |\n",
      "| 22USC108 |       nan |    nan |       nan |     nan |  nan | Abang Adik |     nan |     nan |   nan |\n",
      "+----------+-----------+--------+-----------+---------+------+------------+---------+---------+-------+\n"
     ]
    }
   ],
   "source": [
    "# If not exists code\n",
    "code = 'Probably not exists'\n",
    "df = students.search(code)\n",
    "\n",
    "print(\n",
    "    tabulate(\n",
    "        df,\n",
    "        headers='keys',\n",
    "        tablefmt='psql',\n",
    "        missingval='N/A',\n",
    "    )\n",
    ")\n",
    "\n",
    "# If exists code\n",
    "code = f'22USC10'\n",
    "df = students.search(code)\n",
    "\n",
    "print(\n",
    "    tabulate(\n",
    "        df,\n",
    "        headers='keys',\n",
    "        tablefmt='psql',\n",
    "        missingval='N/A',\n",
    "    )\n",
    ")"
   ]
  },
  {
   "cell_type": "code",
   "execution_count": 14,
   "metadata": {},
   "outputs": [
    {
     "name": "stdout",
     "output_type": "stream",
     "text": [
      "+----------+-----------+--------+-----------+---------+------+--------+---------+---------+-------+\n",
      "|          |   address |   city |   country |   email |   id | name   |   phone |   state |   zip |\n",
      "|----------+-----------+--------+-----------+---------+------+--------+---------+---------+-------|\n",
      "| 22USC108 |       nan |    nan |       nan |     nan |  nan | nan    |     nan |     nan |   nan |\n",
      "| 22USC109 |       nan |    nan |       nan |     nan |  nan | Abang  |     nan |     nan |   nan |\n",
      "+----------+-----------+--------+-----------+---------+------+--------+---------+---------+-------+\n"
     ]
    }
   ],
   "source": [
    "# Search for all code\n",
    "code = f'' # Empty string to search for all\n",
    "df = students.search(code)\n",
    "\n",
    "print(\n",
    "    tabulate(\n",
    "        df,\n",
    "        headers='keys',\n",
    "        tablefmt='psql',\n",
    "        missingval='N/A',\n",
    "    )\n",
    ")"
   ]
  },
  {
   "attachments": {},
   "cell_type": "markdown",
   "metadata": {},
   "source": [
    "#### View a specific entry"
   ]
  },
  {
   "cell_type": "code",
   "execution_count": 15,
   "metadata": {},
   "outputs": [
    {
     "name": "stderr",
     "output_type": "stream",
     "text": [
      "Students: Code already exists: 22USC108\n"
     ]
    },
    {
     "name": "stdout",
     "output_type": "stream",
     "text": [
      "+----------+-----------+--------+-----------+---------+------+--------+---------+---------+-------+\n",
      "|          |   address |   city |   country |   email |   id |   name |   phone |   state |   zip |\n",
      "|----------+-----------+--------+-----------+---------+------+--------+---------+---------+-------|\n",
      "| 22USC108 |       nan |    nan |       nan |     nan |  nan |    nan |     nan |     nan |   nan |\n",
      "+----------+-----------+--------+-----------+---------+------+--------+---------+---------+-------+\n"
     ]
    }
   ],
   "source": [
    "# If not exists code\n",
    "code = 'Probably not exists'\n",
    "df = students.view(code) # Returns a NoneType object\n",
    "\n",
    "# If exists code\n",
    "i = randint(1, 9)\n",
    "code = f'22USC10{i}'\n",
    "df = students.view(code) # Returns a DataFrame object\n",
    "print(\n",
    "    tabulate(\n",
    "        df,\n",
    "        headers='keys',\n",
    "        tablefmt='psql',\n",
    "        missingval='N/A',\n",
    "    )\n",
    ")"
   ]
  },
  {
   "attachments": {},
   "cell_type": "markdown",
   "metadata": {},
   "source": [
    "## Results Section"
   ]
  },
  {
   "cell_type": "code",
   "execution_count": 16,
   "metadata": {},
   "outputs": [],
   "source": [
    "results = Results()"
   ]
  },
  {
   "attachments": {},
   "cell_type": "markdown",
   "metadata": {},
   "source": [
    "#### Appending"
   ]
  },
  {
   "cell_type": "code",
   "execution_count": 99,
   "metadata": {},
   "outputs": [
    {
     "name": "stderr",
     "output_type": "stream",
     "text": [
      "Results: 22USC109 appended successfully into CSC 109.\n",
      "Results: Student already exists: 22USC109 in CSC 109\n"
     ]
    }
   ],
   "source": [
    "i = randint(1, 9)\n",
    "course_code = f'CSC 10{i}'\n",
    "student_code = f'22USC10{i}'\n",
    "\n",
    "# If not exist\n",
    "results.append(\n",
    "    student_code=student_code,\n",
    "    course_code=course_code,\n",
    ")\n",
    "\n",
    "# If existing\n",
    "results.append(\n",
    "    student_code=student_code,\n",
    "    course_code=course_code,\n",
    ")"
   ]
  },
  {
   "cell_type": "code",
   "execution_count": 135,
   "metadata": {},
   "outputs": [
    {
     "name": "stderr",
     "output_type": "stream",
     "text": [
      "Results: 22USC106 appended successfully into CSC 109.\n"
     ]
    }
   ],
   "source": [
    "# Generate some random data\n",
    "i = randint(1, 9)\n",
    "course_code = f'CSC 10{i}'\n",
    "i = randint(1, 9)\n",
    "student_code = f'22USC10{i}'\n",
    "\n",
    "results.append(\n",
    "    student_code=student_code,\n",
    "    course_code=course_code,\n",
    ")"
   ]
  },
  {
   "attachments": {},
   "cell_type": "markdown",
   "metadata": {},
   "source": [
    "#### Deleting"
   ]
  },
  {
   "cell_type": "code",
   "execution_count": 45,
   "metadata": {},
   "outputs": [
    {
     "name": "stderr",
     "output_type": "stream",
     "text": [
      "Results: Student: 22USC109 in CSC 109 deleted successfully.\n",
      "Results: Course not exists: CSC 109\n"
     ]
    }
   ],
   "source": [
    "i = randint(1, 9)\n",
    "course_code = f'CSC 10{i}'\n",
    "student_code = f'22USC10{i}'\n",
    "\n",
    "# If existing\n",
    "results.delete(\n",
    "    student_code=student_code,\n",
    "    course_code=course_code,\n",
    ")\n",
    "\n",
    "# If not exist\n",
    "results.delete(\n",
    "    student_code=student_code,\n",
    "    course_code=course_code,\n",
    ")"
   ]
  },
  {
   "attachments": {},
   "cell_type": "markdown",
   "metadata": {},
   "source": [
    "#### Editing"
   ]
  },
  {
   "cell_type": "code",
   "execution_count": 113,
   "metadata": {},
   "outputs": [
    {
     "name": "stderr",
     "output_type": "stream",
     "text": [
      "Results: Course not exists: Probably not exists\n",
      "Results: Student: 22USC109 in CSC 109 edited successfully.\n"
     ]
    }
   ],
   "source": [
    "# If not exists code\n",
    "code = 'Probably not exists'\n",
    "results.edit(\n",
    "    student_code=code,\n",
    "    course_code=code,\n",
    "    **{'T1': '100', 'T2': '50'}\n",
    ")\n",
    "\n",
    "# If exists code\n",
    "i = randint(1, 9)\n",
    "course_code = f'CSC 10{i}'\n",
    "student_code = f'22USC10{i}'\n",
    "\n",
    "results.edit(\n",
    "    student_code=student_code,\n",
    "    course_code=course_code,\n",
    "    T1=100,\n",
    "    T2=50,\n",
    "    A1=23,\n",
    "    FE=44,\n",
    ")"
   ]
  },
  {
   "attachments": {},
   "cell_type": "markdown",
   "metadata": {},
   "source": [
    "#### Searching"
   ]
  },
  {
   "cell_type": "code",
   "execution_count": 144,
   "metadata": {},
   "outputs": [
    {
     "name": "stdout",
     "output_type": "stream",
     "text": [
      "+------+------+------+------+------+---------------+----------------+\n",
      "| A1   | A2   | FE   | T1   | T2   | course_code   | student_code   |\n",
      "|------+------+------+------+------+---------------+----------------|\n",
      "+------+------+------+------+------+---------------+----------------+\n",
      "+------+------+------+------+------+---------------+----------------+\n",
      "|   A1 |   A2 |   FE |   T1 |   T2 | course_code   | student_code   |\n",
      "|------+------+------+------+------+---------------+----------------|\n",
      "|  nan |  nan |  nan |  nan |  nan | CSC 106       | 22USC107       |\n",
      "|  nan |  nan |  nan |  nan |  nan | CSC 107       | 22USC107       |\n",
      "+------+------+------+------+------+---------------+----------------+\n",
      "+------+------+------+------+------+---------------+----------------+\n",
      "|   A1 |   A2 |   FE |   T1 |   T2 | course_code   | student_code   |\n",
      "|------+------+------+------+------+---------------+----------------|\n",
      "|  nan |  nan |  nan |  nan |  nan | CSC 107       | 22USC106       |\n",
      "|  nan |  nan |  nan |  nan |  nan | CSC 107       | 22USC107       |\n",
      "+------+------+------+------+------+---------------+----------------+\n"
     ]
    }
   ],
   "source": [
    "# If not exists code\n",
    "code = 'Probably not exists'\n",
    "df = results.search(code)\n",
    "\n",
    "print(\n",
    "    tabulate(\n",
    "        df,\n",
    "        headers='keys',\n",
    "        tablefmt='psql',\n",
    "        missingval='N/A',\n",
    "    )\n",
    ")\n",
    "\n",
    "# If exists code\n",
    "i = randint(1, 9)\n",
    "course_code = f'CSC 10{i}'\n",
    "student_code = f'22USC10{i}'\n",
    "\n",
    "## Search by student code\n",
    "df = results.search(\n",
    "    keyword=student_code,\n",
    ")\n",
    "\n",
    "print(\n",
    "    tabulate(\n",
    "        df,\n",
    "        headers='keys',\n",
    "        tablefmt='psql',\n",
    "        missingval='N/A',\n",
    "        showindex=False,\n",
    "    )\n",
    ")\n",
    "\n",
    "## Search by course code\n",
    "df = results.search(\n",
    "    keyword=course_code,\n",
    ")\n",
    "\n",
    "print(\n",
    "    tabulate(\n",
    "        df,\n",
    "        headers='keys',\n",
    "        tablefmt='psql',\n",
    "        missingval='N/A',\n",
    "        showindex=False,\n",
    "    )\n",
    ")\n"
   ]
  },
  {
   "cell_type": "code",
   "execution_count": 146,
   "metadata": {},
   "outputs": [
    {
     "name": "stdout",
     "output_type": "stream",
     "text": [
      "+------+------+------+------+------+---------------+----------------+\n",
      "|   A1 |   A2 |   FE |   T1 |   T2 | course_code   | student_code   |\n",
      "|------+------+------+------+------+---------------+----------------|\n",
      "|  nan |  nan |  nan |  nan |  nan | CSC 106       | 22USC107       |\n",
      "|   23 |  nan |   44 |  100 |   50 | CSC 109       | 22USC109       |\n",
      "|  nan |  nan |  nan |  nan |  nan | CSC 106       | 22USC109       |\n",
      "|  nan |  nan |  nan |  nan |  nan | CSC 105       | 22USC106       |\n",
      "|  nan |  nan |  nan |  nan |  nan | CSC 105       | 22USC104       |\n",
      "|  nan |  nan |  nan |  nan |  nan | CSC 107       | 22USC106       |\n",
      "|  nan |  nan |  nan |  nan |  nan | CSC 107       | 22USC107       |\n",
      "|  nan |  nan |  nan |  nan |  nan | CSC 106       | 22USC104       |\n",
      "|  nan |  nan |  nan |  nan |  nan | CSC 106       | 22USC101       |\n",
      "|  nan |  nan |  nan |  nan |  nan | CSC 109       | 22USC106       |\n",
      "+------+------+------+------+------+---------------+----------------+\n"
     ]
    }
   ],
   "source": [
    "# Search for all code\n",
    "code = f'' # Empty string to search for all\n",
    "df = results.search(code)\n",
    "\n",
    "print(\n",
    "    tabulate(\n",
    "        df,\n",
    "        headers='keys',\n",
    "        tablefmt='psql',\n",
    "        missingval='N/A',\n",
    "        showindex=False,\n",
    "    )\n",
    ")"
   ]
  },
  {
   "attachments": {},
   "cell_type": "markdown",
   "metadata": {},
   "source": [
    "#### View a specific entry"
   ]
  },
  {
   "cell_type": "code",
   "execution_count": 162,
   "metadata": {},
   "outputs": [
    {
     "name": "stdout",
     "output_type": "stream",
     "text": [
      "+------+------+------+------+------+---------------+----------------+\n",
      "|   A1 |   A2 |   FE |   T1 |   T2 | course_code   | student_code   |\n",
      "|------+------+------+------+------+---------------+----------------|\n",
      "|   23 |  nan |   44 |  100 |   50 | CSC 109       | 22USC109       |\n",
      "+------+------+------+------+------+---------------+----------------+\n"
     ]
    }
   ],
   "source": [
    "# If not exists code\n",
    "code = 'Probably not exists'\n",
    "df = results.view(\n",
    "    course_code=code,\n",
    "    student_code=code,\n",
    ") # Returns a NoneType object\n",
    "\n",
    "# If exists code\n",
    "i = randint(1, 9)\n",
    "course_code = f'CSC 10{i}'\n",
    "student_code = f'22USC10{i}'\n",
    "\n",
    "df = results.view(\n",
    "    course_code=course_code,\n",
    "    student_code=student_code,\n",
    ")\n",
    "\n",
    "print(\n",
    "    tabulate(\n",
    "        df,\n",
    "        headers='keys',\n",
    "        tablefmt='psql',\n",
    "        missingval='N/A',\n",
    "        showindex=False,\n",
    "    )\n",
    ")"
   ]
  },
  {
   "attachments": {},
   "cell_type": "markdown",
   "metadata": {},
   "source": [
    "## Users Section"
   ]
  },
  {
   "cell_type": "code",
   "execution_count": 2,
   "metadata": {},
   "outputs": [],
   "source": [
    "user = User()"
   ]
  },
  {
   "attachments": {},
   "cell_type": "markdown",
   "metadata": {},
   "source": [
    "#### Registering"
   ]
  },
  {
   "cell_type": "code",
   "execution_count": 10,
   "metadata": {},
   "outputs": [
    {
     "name": "stderr",
     "output_type": "stream",
     "text": [
      "User: 7 registered\n",
      "User: 7 already exists\n"
     ]
    },
    {
     "data": {
      "text/plain": [
       "False"
      ]
     },
     "execution_count": 10,
     "metadata": {},
     "output_type": "execute_result"
    }
   ],
   "source": [
    "i = str(randint(1, 9))\n",
    "\n",
    "# If not exist\n",
    "user.register(username=i, password=i) # Returns True\n",
    "\n",
    "# If existing\n",
    "user.register(username=i, password=i) # Returns False"
   ]
  },
  {
   "attachments": {},
   "cell_type": "markdown",
   "metadata": {},
   "source": [
    "#### Logging in"
   ]
  },
  {
   "cell_type": "code",
   "execution_count": 3,
   "metadata": {},
   "outputs": [
    {
     "name": "stderr",
     "output_type": "stream",
     "text": [
      "User: Probably not exists does not exist\n",
      "User: 7 failed to log in\n",
      "User: 7 logged in\n"
     ]
    },
    {
     "data": {
      "text/plain": [
       "True"
      ]
     },
     "execution_count": 3,
     "metadata": {},
     "output_type": "execute_result"
    }
   ],
   "source": [
    "i = str(randint(1, 9))\n",
    "\n",
    "# If not exist\n",
    "user.login(username='Probably not exists', password=i) # Returns False\n",
    "\n",
    "# If existing, but wrong password\n",
    "user.login(username=i, password='Wrong password') # Returns False\n",
    "\n",
    "# If existing, and correct password\n",
    "user.login(username=i, password=i) # Returns True"
   ]
  },
  {
   "attachments": {},
   "cell_type": "markdown",
   "metadata": {},
   "source": [
    "#### Changing password"
   ]
  },
  {
   "cell_type": "code",
   "execution_count": 5,
   "metadata": {},
   "outputs": [
    {
     "name": "stderr",
     "output_type": "stream",
     "text": [
      "User: Username not exists: Probably not exists\n",
      "User: Incorrect password: 8\n",
      "User: 8 changed password successfully.\n"
     ]
    },
    {
     "data": {
      "text/plain": [
       "True"
      ]
     },
     "execution_count": 5,
     "metadata": {},
     "output_type": "execute_result"
    }
   ],
   "source": [
    "i = str(randint(1, 9))\n",
    "\n",
    "# If not exist\n",
    "user.change_password(\n",
    "    username='Probably not exists',\n",
    "    old_password=i,\n",
    "    new_password=i\n",
    ") # Returns False\n",
    "\n",
    "# If existing, but wrong password\n",
    "user.change_password(\n",
    "    username=i,\n",
    "    old_password='Wrong password',\n",
    "    new_password=i\n",
    ") # Returns False\n",
    "\n",
    "# If existing, and correct password\n",
    "user.change_password(\n",
    "    username=i,\n",
    "    old_password=i,\n",
    "    new_password=i\n",
    ") # Returns True"
   ]
  }
 ],
 "metadata": {
  "kernelspec": {
   "display_name": ".venv",
   "language": "python",
   "name": "python3"
  },
  "language_info": {
   "codemirror_mode": {
    "name": "ipython",
    "version": 3
   },
   "file_extension": ".py",
   "mimetype": "text/x-python",
   "name": "python",
   "nbconvert_exporter": "python",
   "pygments_lexer": "ipython3",
   "version": "3.10.9"
  },
  "orig_nbformat": 4,
  "vscode": {
   "interpreter": {
    "hash": "836b947d689140733f9d64fc3b0915601adec73673026c6dc32aebb7cd61d3ac"
   }
  }
 },
 "nbformat": 4,
 "nbformat_minor": 2
}
