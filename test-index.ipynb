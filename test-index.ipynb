{
 "cells": [
  {
   "attachments": {},
   "cell_type": "markdown",
   "metadata": {},
   "source": [
    "# START"
   ]
  },
  {
   "cell_type": "code",
   "execution_count": 1,
   "metadata": {},
   "outputs": [],
   "source": [
    "from src import Courses, Students, Results, User\n",
    "from tabulate import tabulate\n",
    "from random import randint, choice"
   ]
  },
  {
   "attachments": {},
   "cell_type": "markdown",
   "metadata": {},
   "source": [
    "## Courses Section"
   ]
  },
  {
   "cell_type": "code",
   "execution_count": 2,
   "metadata": {},
   "outputs": [],
   "source": [
    "courses = Courses()"
   ]
  },
  {
   "attachments": {},
   "cell_type": "markdown",
   "metadata": {},
   "source": [
    "#### Appending"
   ]
  },
  {
   "cell_type": "code",
   "execution_count": 3,
   "metadata": {},
   "outputs": [
    {
     "name": "stderr",
     "output_type": "stream",
     "text": [
      "Courses: Code already exists: CSC 109\n"
     ]
    }
   ],
   "source": [
    "i = randint(1, 9)\n",
    "code = f'CSC 10{i}'\n",
    "courses.append(code)"
   ]
  },
  {
   "attachments": {},
   "cell_type": "markdown",
   "metadata": {},
   "source": [
    "#### Deleting"
   ]
  },
  {
   "cell_type": "code",
   "execution_count": 4,
   "metadata": {},
   "outputs": [
    {
     "name": "stderr",
     "output_type": "stream",
     "text": [
      "Courses: CSC 102 deleted successfully.\n"
     ]
    }
   ],
   "source": [
    "i = randint(1, 9)\n",
    "code = f'CSC 10{i}'\n",
    "courses.delete(code)"
   ]
  },
  {
   "attachments": {},
   "cell_type": "markdown",
   "metadata": {},
   "source": [
    "#### Editing"
   ]
  },
  {
   "cell_type": "code",
   "execution_count": 5,
   "metadata": {},
   "outputs": [
    {
     "name": "stderr",
     "output_type": "stream",
     "text": [
      "Courses: Code not exists: Probably not exists\n",
      "Courses: CSC 108 appended successfully.\n",
      "Courses: CSC 108 edited successfully. name = Computer Science\n",
      "Courses: Key not in whitelist: Wrong key\n"
     ]
    },
    {
     "name": "stdout",
     "output_type": "stream",
     "text": [
      "|         |   A1 |   A1_convert |   A1_total |   A2 |   A2_convert |   A2_total |   FE |   T1 |   T1_convert |   T1_total |   T2 |   T2_convert |   T2_total |   credits |   days |   description |   instructor |   location | name             |   section |   time |\n",
      "|:--------|-----:|-------------:|-----------:|-----:|-------------:|-----------:|-----:|-----:|-------------:|-----------:|-----:|-------------:|-----------:|----------:|-------:|--------------:|-------------:|-----------:|:-----------------|----------:|-------:|\n",
      "| CSC 108 |  nan |          nan |        nan |  nan |          nan |        nan |  nan |  nan |          nan |        nan |  nan |          nan |        nan |       nan |    nan |           nan |          nan |        nan | Computer Science |       nan |    nan |\n"
     ]
    }
   ],
   "source": [
    "# If not exists code\n",
    "code = 'Probably not exists'\n",
    "courses.edit(code, **{'name': 'Computer Science'})\n",
    "\n",
    "# If exists code\n",
    "i = randint(1, 9)\n",
    "code = f'CSC 10{i}'\n",
    "courses.append(code)\n",
    "courses.edit(code, **{'name': 'Computer Science'})\n",
    "df = courses.view(code)\n",
    "print(df.to_markdown())\n",
    "\n",
    "# If key is not exists\n",
    "courses.edit(code, **{'Wrong key': 'Failure'})"
   ]
  },
  {
   "attachments": {},
   "cell_type": "markdown",
   "metadata": {},
   "source": [
    "#### Searching"
   ]
  },
  {
   "cell_type": "code",
   "execution_count": 6,
   "metadata": {},
   "outputs": [
    {
     "name": "stdout",
     "output_type": "stream",
     "text": [
      "+------+--------------+------------+------+--------------+------------+------+------+--------------+------------+------+--------------+------------+-----------+--------+---------------+--------------+------------+--------+-----------+--------+\n",
      "| A1   | A1_convert   | A1_total   | A2   | A2_convert   | A2_total   | FE   | T1   | T1_convert   | T1_total   | T2   | T2_convert   | T2_total   | credits   | days   | description   | instructor   | location   | name   | section   | time   |\n",
      "|------+--------------+------------+------+--------------+------------+------+------+--------------+------------+------+--------------+------------+-----------+--------+---------------+--------------+------------+--------+-----------+--------|\n",
      "+------+--------------+------------+------+--------------+------------+------+------+--------------+------------+------+--------------+------------+-----------+--------+---------------+--------------+------------+--------+-----------+--------+\n",
      "+---------+------+--------------+------------+------+--------------+------------+------+------+--------------+------------+------+--------------+------------+-----------+--------+---------------+--------------+------------+------------------+-----------+--------+\n",
      "|         |   A1 |   A1_convert |   A1_total |   A2 |   A2_convert |   A2_total |   FE |   T1 |   T1_convert |   T1_total |   T2 |   T2_convert |   T2_total |   credits |   days |   description |   instructor |   location | name             |   section |   time |\n",
      "|---------+------+--------------+------------+------+--------------+------------+------+------+--------------+------------+------+--------------+------------+-----------+--------+---------------+--------------+------------+------------------+-----------+--------|\n",
      "| CSC 105 |  nan |          nan |        nan |  nan |          nan |        nan |  nan |  nan |          nan |        nan |  nan |          nan |        nan |       nan |    nan |           nan |          nan |        nan | nan              |       nan |    nan |\n",
      "| CSC 109 |  nan |          nan |        nan |  nan |          nan |        nan |  nan |  nan |          nan |        nan |  nan |          nan |        nan |       nan |    nan |           nan |          nan |        nan | nan              |       nan |    nan |\n",
      "| CSC 106 |  nan |          nan |        nan |  nan |          nan |        nan |  nan |  nan |          nan |        nan |  nan |          nan |        nan |       nan |    nan |           nan |          nan |        nan | Computer Science |       nan |    nan |\n",
      "| CSC 101 |  nan |          nan |        nan |  nan |          nan |        nan |  nan |  nan |          nan |        nan |  nan |          nan |        nan |       nan |    nan |           nan |          nan |        nan | nan              |       nan |    nan |\n",
      "| CSC 107 |  nan |          nan |        nan |  nan |          nan |        nan |  nan |  nan |          nan |        nan |  nan |          nan |        nan |       nan |    nan |           nan |          nan |        nan | Computer Science |       nan |    nan |\n",
      "| CSC 103 |  nan |          nan |        nan |  nan |          nan |        nan |  nan |  nan |          nan |        nan |  nan |          nan |        nan |       nan |    nan |           nan |          nan |        nan | nan              |       nan |    nan |\n",
      "| CSC 108 |  nan |          nan |        nan |  nan |          nan |        nan |  nan |  nan |          nan |        nan |  nan |          nan |        nan |       nan |    nan |           nan |          nan |        nan | Computer Science |       nan |    nan |\n",
      "+---------+------+--------------+------------+------+--------------+------------+------+------+--------------+------------+------+--------------+------------+-----------+--------+---------------+--------------+------------+------------------+-----------+--------+\n"
     ]
    }
   ],
   "source": [
    "# If not exists code\n",
    "code = 'Probably not exists'\n",
    "df = courses.search(code)\n",
    "\n",
    "print(\n",
    "    tabulate(\n",
    "        df,\n",
    "        headers='keys',\n",
    "        tablefmt='psql',\n",
    "        missingval='N/A',\n",
    "    )\n",
    ")\n",
    "\n",
    "# If exists code\n",
    "code = f'CSC 10'\n",
    "df = courses.search(code)\n",
    "\n",
    "print(\n",
    "    tabulate(\n",
    "        df,\n",
    "        headers='keys',\n",
    "        tablefmt='psql',\n",
    "        missingval='N/A',\n",
    "    )\n",
    ")"
   ]
  },
  {
   "cell_type": "code",
   "execution_count": 7,
   "metadata": {},
   "outputs": [
    {
     "name": "stdout",
     "output_type": "stream",
     "text": [
      "+---------+------+--------------+------------+------+--------------+------------+------+------+--------------+------------+------+--------------+------------+-----------+--------+---------------+--------------+------------+------------------+-----------+--------+\n",
      "|         |   A1 |   A1_convert |   A1_total |   A2 |   A2_convert |   A2_total |   FE |   T1 |   T1_convert |   T1_total |   T2 |   T2_convert |   T2_total |   credits |   days |   description |   instructor |   location | name             |   section |   time |\n",
      "|---------+------+--------------+------------+------+--------------+------------+------+------+--------------+------------+------+--------------+------------+-----------+--------+---------------+--------------+------------+------------------+-----------+--------|\n",
      "| CSC 105 |  nan |          nan |        nan |  nan |          nan |        nan |  nan |  nan |          nan |        nan |  nan |          nan |        nan |       nan |    nan |           nan |          nan |        nan | nan              |       nan |    nan |\n",
      "| CSC 109 |  nan |          nan |        nan |  nan |          nan |        nan |  nan |  nan |          nan |        nan |  nan |          nan |        nan |       nan |    nan |           nan |          nan |        nan | nan              |       nan |    nan |\n",
      "| CSC 106 |  nan |          nan |        nan |  nan |          nan |        nan |  nan |  nan |          nan |        nan |  nan |          nan |        nan |       nan |    nan |           nan |          nan |        nan | Computer Science |       nan |    nan |\n",
      "| CSC 101 |  nan |          nan |        nan |  nan |          nan |        nan |  nan |  nan |          nan |        nan |  nan |          nan |        nan |       nan |    nan |           nan |          nan |        nan | nan              |       nan |    nan |\n",
      "| qwe     |  nan |          nan |        nan |  nan |          nan |        nan |  nan |  nan |          nan |        nan |  nan |          nan |        nan |       nan |    nan |           nan |          nan |        nan | nan              |       nan |    nan |\n",
      "| asdf    |  nan |          nan |        nan |  nan |          nan |        nan |  nan |  nan |          nan |        nan |  nan |          nan |        nan |       nan |    nan |           nan |          nan |        nan | nan              |       nan |    nan |\n",
      "| CSC 107 |  nan |          nan |        nan |  nan |          nan |        nan |  nan |  nan |          nan |        nan |  nan |          nan |        nan |       nan |    nan |           nan |          nan |        nan | Computer Science |       nan |    nan |\n",
      "| CSC 103 |  nan |          nan |        nan |  nan |          nan |        nan |  nan |  nan |          nan |        nan |  nan |          nan |        nan |       nan |    nan |           nan |          nan |        nan | nan              |       nan |    nan |\n",
      "| CSC 108 |  nan |          nan |        nan |  nan |          nan |        nan |  nan |  nan |          nan |        nan |  nan |          nan |        nan |       nan |    nan |           nan |          nan |        nan | Computer Science |       nan |    nan |\n",
      "+---------+------+--------------+------------+------+--------------+------------+------+------+--------------+------------+------+--------------+------------+-----------+--------+---------------+--------------+------------+------------------+-----------+--------+\n"
     ]
    }
   ],
   "source": [
    "# Search for all code\n",
    "code = f''\n",
    "df = courses.search(code)\n",
    "\n",
    "print(\n",
    "    tabulate(\n",
    "        df,\n",
    "        headers='keys',\n",
    "        tablefmt='psql',\n",
    "        missingval='N/A',\n",
    "    )\n",
    ")"
   ]
  },
  {
   "attachments": {},
   "cell_type": "markdown",
   "metadata": {},
   "source": [
    "#### View a specific entry"
   ]
  },
  {
   "cell_type": "code",
   "execution_count": 8,
   "metadata": {},
   "outputs": [
    {
     "name": "stderr",
     "output_type": "stream",
     "text": [
      "Courses: Code already exists: CSC 108\n"
     ]
    },
    {
     "name": "stdout",
     "output_type": "stream",
     "text": [
      "+---------+------+--------------+------------+------+--------------+------------+------+------+--------------+------------+------+--------------+------------+-----------+--------+---------------+--------------+------------+------------------+-----------+--------+\n",
      "|         |   A1 |   A1_convert |   A1_total |   A2 |   A2_convert |   A2_total |   FE |   T1 |   T1_convert |   T1_total |   T2 |   T2_convert |   T2_total |   credits |   days |   description |   instructor |   location | name             |   section |   time |\n",
      "|---------+------+--------------+------------+------+--------------+------------+------+------+--------------+------------+------+--------------+------------+-----------+--------+---------------+--------------+------------+------------------+-----------+--------|\n",
      "| CSC 108 |  nan |          nan |        nan |  nan |          nan |        nan |  nan |  nan |          nan |        nan |  nan |          nan |        nan |       nan |    nan |           nan |          nan |        nan | Computer Science |       nan |    nan |\n",
      "+---------+------+--------------+------------+------+--------------+------------+------+------+--------------+------------+------+--------------+------------+-----------+--------+---------------+--------------+------------+------------------+-----------+--------+\n"
     ]
    }
   ],
   "source": [
    "# If not exists code\n",
    "code = 'Probably not exists'\n",
    "df = courses.view(code) # Returns a NoneType object\n",
    "\n",
    "# If exists code\n",
    "i = randint(1, 9)\n",
    "code = f'CSC 10{i}'\n",
    "courses.append(code)\n",
    "df = courses.view(code) # Returns a DataFrame object\n",
    "print(\n",
    "    tabulate(\n",
    "        df,\n",
    "        headers='keys',\n",
    "        tablefmt='psql',\n",
    "        missingval='N/A',\n",
    "    )\n",
    ")"
   ]
  },
  {
   "attachments": {},
   "cell_type": "markdown",
   "metadata": {},
   "source": [
    "## Students Section\n"
   ]
  },
  {
   "cell_type": "code",
   "execution_count": 9,
   "metadata": {},
   "outputs": [],
   "source": [
    "students = Students()"
   ]
  },
  {
   "attachments": {},
   "cell_type": "markdown",
   "metadata": {},
   "source": [
    "#### Appending"
   ]
  },
  {
   "cell_type": "code",
   "execution_count": 10,
   "metadata": {},
   "outputs": [
    {
     "name": "stderr",
     "output_type": "stream",
     "text": [
      "Students: Code already exists: 22USC108\n"
     ]
    }
   ],
   "source": [
    "i = randint(1, 9)\n",
    "code = f'22USC10{i}'\n",
    "students.append(code)"
   ]
  },
  {
   "attachments": {},
   "cell_type": "markdown",
   "metadata": {},
   "source": [
    "#### Deleting"
   ]
  },
  {
   "cell_type": "code",
   "execution_count": 11,
   "metadata": {},
   "outputs": [
    {
     "name": "stderr",
     "output_type": "stream",
     "text": [
      "Students: 22USC109 deleted successfully.\n"
     ]
    }
   ],
   "source": [
    "i = randint(1, 9)\n",
    "code = f'22USC10{i}'\n",
    "students.delete(code)"
   ]
  },
  {
   "attachments": {},
   "cell_type": "markdown",
   "metadata": {},
   "source": [
    "#### Editing"
   ]
  },
  {
   "cell_type": "code",
   "execution_count": 12,
   "metadata": {},
   "outputs": [
    {
     "name": "stderr",
     "output_type": "stream",
     "text": [
      "Students: Code not exists: Probably not exists\n",
      "Students: Code already exists: 22USC106\n",
      "Students: 22USC106 edited successfully. name = Abang\n",
      "Students: Key not in whitelist: Wrong key\n"
     ]
    },
    {
     "name": "stdout",
     "output_type": "stream",
     "text": [
      "|          |   address |   city |   country |   email |   id | name   |   phone |   state |   zip |\n",
      "|:---------|----------:|-------:|----------:|--------:|-----:|:-------|--------:|--------:|------:|\n",
      "| 22USC106 |       nan |    nan |       nan |     nan |  nan | Abang  |     nan |     nan |   nan |\n"
     ]
    }
   ],
   "source": [
    "\n",
    "# If not exists code\n",
    "code = 'Probably not exists'\n",
    "students.edit(code, **{'name': 'Abang'})\n",
    "\n",
    "# If exists code\n",
    "i = randint(1, 9)\n",
    "code = f'22USC10{i}'\n",
    "students.append(code)\n",
    "students.edit(code, **{'name': 'Abang'})\n",
    "df = students.view(code)\n",
    "print(df.to_markdown())\n",
    "\n",
    "# If key is not exists\n",
    "students.edit(code, **{'Wrong key': 'Failure'})"
   ]
  },
  {
   "attachments": {},
   "cell_type": "markdown",
   "metadata": {},
   "source": [
    "#### Searching"
   ]
  },
  {
   "cell_type": "code",
   "execution_count": 13,
   "metadata": {},
   "outputs": [
    {
     "name": "stdout",
     "output_type": "stream",
     "text": [
      "+-----------+--------+-----------+---------+------+--------+---------+---------+-------+\n",
      "| address   | city   | country   | email   | id   | name   | phone   | state   | zip   |\n",
      "|-----------+--------+-----------+---------+------+--------+---------+---------+-------|\n",
      "+-----------+--------+-----------+---------+------+--------+---------+---------+-------+\n",
      "+----------+-----------+--------+-----------+---------+------+--------+---------+---------+-------+\n",
      "|          |   address |   city |   country |   email |   id | name   |   phone |   state |   zip |\n",
      "|----------+-----------+--------+-----------+---------+------+--------+---------+---------+-------|\n",
      "| 22USC107 |       nan |    nan |       nan |     nan |  nan | Abang  |     nan |     nan |   nan |\n",
      "| 22USC104 |       nan |    nan |       nan |     nan |  nan | Abang  |     nan |     nan |   nan |\n",
      "| 22USC106 |       nan |    nan |       nan |     nan |  nan | Abang  |     nan |     nan |   nan |\n",
      "| 22USC105 |       nan |    nan |       nan |     nan |  nan | Abang  |     nan |     nan |   nan |\n",
      "| 22USC108 |       nan |    nan |       nan |     nan |  nan | nan    |     nan |     nan |   nan |\n",
      "| 22USC101 |       nan |    nan |       nan |     nan |  nan | nan    |     nan |     nan |   nan |\n",
      "+----------+-----------+--------+-----------+---------+------+--------+---------+---------+-------+\n"
     ]
    }
   ],
   "source": [
    "# If not exists code\n",
    "code = 'Probably not exists'\n",
    "df = students.search(code)\n",
    "\n",
    "print(\n",
    "    tabulate(\n",
    "        df,\n",
    "        headers='keys',\n",
    "        tablefmt='psql',\n",
    "        missingval='N/A',\n",
    "    )\n",
    ")\n",
    "\n",
    "# If exists code\n",
    "code = f'22USC10'\n",
    "df = students.search(code)\n",
    "\n",
    "print(\n",
    "    tabulate(\n",
    "        df,\n",
    "        headers='keys',\n",
    "        tablefmt='psql',\n",
    "        missingval='N/A',\n",
    "    )\n",
    ")"
   ]
  },
  {
   "cell_type": "code",
   "execution_count": 14,
   "metadata": {},
   "outputs": [
    {
     "name": "stdout",
     "output_type": "stream",
     "text": [
      "+----------+-----------+--------+-----------+---------+------+--------+---------+---------+-------+\n",
      "|          |   address |   city |   country |   email |   id | name   |   phone |   state |   zip |\n",
      "|----------+-----------+--------+-----------+---------+------+--------+---------+---------+-------|\n",
      "| 22USC107 |       nan |    nan |       nan |     nan |  nan | Abang  |     nan |     nan |   nan |\n",
      "| 22USC104 |       nan |    nan |       nan |     nan |  nan | Abang  |     nan |     nan |   nan |\n",
      "| 22USC106 |       nan |    nan |       nan |     nan |  nan | Abang  |     nan |     nan |   nan |\n",
      "| 22USC105 |       nan |    nan |       nan |     nan |  nan | Abang  |     nan |     nan |   nan |\n",
      "| 22USC108 |       nan |    nan |       nan |     nan |  nan | nan    |     nan |     nan |   nan |\n",
      "| afds     |       nan |    nan |       nan |     nan |  nan | nan    |     nan |     nan |   nan |\n",
      "| 22USC101 |       nan |    nan |       nan |     nan |  nan | nan    |     nan |     nan |   nan |\n",
      "+----------+-----------+--------+-----------+---------+------+--------+---------+---------+-------+\n"
     ]
    }
   ],
   "source": [
    "# Search for all code\n",
    "code = f''\n",
    "df = students.search(code)\n",
    "\n",
    "print(\n",
    "    tabulate(\n",
    "        df,\n",
    "        headers='keys',\n",
    "        tablefmt='psql',\n",
    "        missingval='N/A',\n",
    "    )\n",
    ")"
   ]
  },
  {
   "attachments": {},
   "cell_type": "markdown",
   "metadata": {},
   "source": [
    "#### View a specific entry"
   ]
  },
  {
   "cell_type": "code",
   "execution_count": 15,
   "metadata": {},
   "outputs": [
    {
     "name": "stderr",
     "output_type": "stream",
     "text": [
      "Students: 22USC102 appended successfully.\n"
     ]
    },
    {
     "name": "stdout",
     "output_type": "stream",
     "text": [
      "+----------+-----------+--------+-----------+---------+------+--------+---------+---------+-------+\n",
      "|          |   address |   city |   country |   email |   id |   name |   phone |   state |   zip |\n",
      "|----------+-----------+--------+-----------+---------+------+--------+---------+---------+-------|\n",
      "| 22USC102 |       nan |    nan |       nan |     nan |  nan |    nan |     nan |     nan |   nan |\n",
      "+----------+-----------+--------+-----------+---------+------+--------+---------+---------+-------+\n"
     ]
    }
   ],
   "source": [
    "# If not exists code\n",
    "code = 'Probably not exists'\n",
    "df = students.view(code) # Returns a NoneType object\n",
    "\n",
    "# If exists code\n",
    "i = randint(1, 9)\n",
    "code = f'22USC10{i}'\n",
    "students.append(code)\n",
    "df = students.view(code) # Returns a DataFrame object\n",
    "print(\n",
    "    tabulate(\n",
    "        df,\n",
    "        headers='keys',\n",
    "        tablefmt='psql',\n",
    "        missingval='N/A',\n",
    "    )\n",
    ")"
   ]
  },
  {
   "attachments": {},
   "cell_type": "markdown",
   "metadata": {},
   "source": [
    "## Results Section"
   ]
  },
  {
   "cell_type": "code",
   "execution_count": 16,
   "metadata": {},
   "outputs": [],
   "source": [
    "results = Results()"
   ]
  },
  {
   "cell_type": "code",
   "execution_count": 17,
   "metadata": {},
   "outputs": [
    {
     "name": "stderr",
     "output_type": "stream",
     "text": [
      "Courses: Code already exists: CSC 106\n",
      "Students: Code already exists: 22USC106\n"
     ]
    }
   ],
   "source": [
    "# Generate random data\n",
    "i = randint(1, 9)\n",
    "course_code = f'CSC 10{i}'\n",
    "student_code = f'22USC10{i}'\n",
    "\n",
    "courses.append(course_code)\n",
    "students.append(student_code)"
   ]
  },
  {
   "attachments": {},
   "cell_type": "markdown",
   "metadata": {},
   "source": [
    "#### Appending"
   ]
  },
  {
   "cell_type": "code",
   "execution_count": 18,
   "metadata": {},
   "outputs": [
    {
     "name": "stderr",
     "output_type": "stream",
     "text": [
      "Results: Student not exists: 22USC109\n",
      "Results: 22USC107 appended successfully into CSC 108.\n"
     ]
    }
   ],
   "source": [
    "i = randint(1, 9)\n",
    "course_code = f'CSC 10{i}'\n",
    "student_code = f'22USC10{i}'\n",
    "results.append(\n",
    "    student_code=student_code,\n",
    "    course_code=course_code,\n",
    ")\n",
    "i = randint(1, 9)\n",
    "course_code = f'CSC 10{i}'\n",
    "i = randint(1, 9)\n",
    "student_code = f'22USC10{i}'\n",
    "\n",
    "results.append(\n",
    "    student_code=student_code,\n",
    "    course_code=course_code,\n",
    ")"
   ]
  },
  {
   "attachments": {},
   "cell_type": "markdown",
   "metadata": {},
   "source": [
    "#### Deleting"
   ]
  },
  {
   "cell_type": "code",
   "execution_count": 19,
   "metadata": {},
   "outputs": [
    {
     "name": "stderr",
     "output_type": "stream",
     "text": [
      "Results: Student: 22USC105 in CSC 105 deleted successfully.\n"
     ]
    }
   ],
   "source": [
    "i = randint(1, 9)\n",
    "course_code = f'CSC 10{i}'\n",
    "student_code = f'22USC10{i}'\n",
    "\n",
    "results.delete(\n",
    "    student_code=student_code,\n",
    "    course_code=course_code,\n",
    ")"
   ]
  },
  {
   "attachments": {},
   "cell_type": "markdown",
   "metadata": {},
   "source": [
    "#### Editing"
   ]
  },
  {
   "cell_type": "code",
   "execution_count": 20,
   "metadata": {},
   "outputs": [
    {
     "name": "stderr",
     "output_type": "stream",
     "text": [
      "Results: Student not exists: 22USC108 in CSC 108\n"
     ]
    }
   ],
   "source": [
    "i = randint(1, 9)\n",
    "course_code = f'CSC 10{i}'\n",
    "student_code = f'22USC10{i}'\n",
    "\n",
    "results.edit(\n",
    "    student_code=student_code,\n",
    "    course_code=course_code,\n",
    "    T1=100,\n",
    "    T2=50,\n",
    "    A1=23,\n",
    "    FE=44,\n",
    ")"
   ]
  },
  {
   "attachments": {},
   "cell_type": "markdown",
   "metadata": {},
   "source": [
    "#### Searching"
   ]
  },
  {
   "cell_type": "code",
   "execution_count": 21,
   "metadata": {},
   "outputs": [
    {
     "name": "stdout",
     "output_type": "stream",
     "text": [
      "CSC 104\n",
      "+------+------+------+------+------+---------------+----------------+\n",
      "|   A1 |   A2 |   FE |   T1 |   T2 | course_code   | student_code   |\n",
      "|------+------+------+------+------+---------------+----------------|\n",
      "|  nan |  nan |  nan |  nan |  nan | CSC 104       | 22USC103       |\n",
      "|   23 |  nan |   44 |  100 |   50 | CSC 104       | 22USC104       |\n",
      "|  nan |  nan |  nan |  nan |  nan | CSC 104       | 22USC107       |\n",
      "+------+------+------+------+------+---------------+----------------+\n"
     ]
    }
   ],
   "source": [
    "i = randint(1, 9)\n",
    "course_code = f'CSC 10{i}'\n",
    "student_code = f'22USC10{i}'\n",
    "print(keyword := choice((course_code, student_code)))\n",
    "\n",
    "df = results.search(\n",
    "    keyword=keyword,\n",
    ")\n",
    "\n",
    "print(\n",
    "    tabulate(\n",
    "        df,\n",
    "        headers='keys',\n",
    "        tablefmt='psql',\n",
    "        missingval='N/A',\n",
    "        showindex=False,\n",
    "    )\n",
    ")"
   ]
  },
  {
   "cell_type": "code",
   "execution_count": 22,
   "metadata": {},
   "outputs": [
    {
     "name": "stdout",
     "output_type": "stream",
     "text": [
      "+----+------+------+------+------+------+---------------+----------------+\n",
      "|    |   A1 |   A2 |   FE |   T1 |   T2 | course_code   | student_code   |\n",
      "|----+------+------+------+------+------+---------------+----------------|\n",
      "|  0 |  nan |  nan |  nan |  nan |  nan | CSC 106       | 22USC102       |\n",
      "|  1 |  nan |  nan |  nan |  nan |  nan | CSC 102       | 22USC101       |\n",
      "|  2 |  nan |  nan |  nan |  nan |  nan | CSC 105       | 22USC106       |\n",
      "|  3 |  nan |  nan |  nan |  nan |  nan | CSC 109       | 22USC106       |\n",
      "|  4 |  nan |  nan |  nan |  nan |  nan | CSC 106       | 22USC108       |\n",
      "|  5 |  nan |  nan |  nan |  nan |  nan | CSC 101       | 22USC102       |\n",
      "|  6 |  nan |  nan |  nan |  nan |  nan | CSC 103       | 22USC104       |\n",
      "|  8 |  nan |  nan |  nan |  nan |  nan | CSC 106       | 22USC109       |\n",
      "|  9 |  nan |  nan |  nan |  nan |  nan | CSC 104       | 22USC103       |\n",
      "| 10 |   23 |  nan |   44 |  100 |   50 | CSC 104       | 22USC104       |\n",
      "| 11 |  nan |  nan |  nan |  nan |  nan | CSC 108       | 22USC102       |\n",
      "| 12 |  nan |  nan |  nan |  nan |  nan | CSC 107       | 22USC106       |\n",
      "| 13 |  nan |  nan |  nan |  nan |  nan | CSC 104       | 22USC107       |\n",
      "| 14 |  nan |  nan |  nan |  nan |  nan | CSC 109       | 22USC102       |\n",
      "| 15 |  nan |  nan |  nan |  nan |  nan | CSC 109       | 22USC109       |\n",
      "| 16 |   23 |  nan |   44 |  100 |   50 | CSC 107       | 22USC107       |\n",
      "| 17 |  nan |  nan |  nan |  nan |  nan | CSC 102       | 22USC106       |\n",
      "| 18 |  nan |  nan |  nan |  nan |  nan | CSC 107       | 22USC109       |\n",
      "| 19 |  nan |  nan |  nan |  nan |  nan | CSC 108       | 22USC107       |\n",
      "+----+------+------+------+------+------+---------------+----------------+\n"
     ]
    }
   ],
   "source": [
    "# Search for all code\n",
    "code = f''\n",
    "df = results.search(code)\n",
    "\n",
    "print(\n",
    "    tabulate(\n",
    "        df,\n",
    "        headers='keys',\n",
    "        tablefmt='psql',\n",
    "        missingval='N/A',\n",
    "    )\n",
    ")"
   ]
  },
  {
   "attachments": {},
   "cell_type": "markdown",
   "metadata": {},
   "source": [
    "#### View a specific entry"
   ]
  },
  {
   "cell_type": "code",
   "execution_count": 23,
   "metadata": {},
   "outputs": [
    {
     "name": "stdout",
     "output_type": "stream",
     "text": [
      "+------+------+------+------+------+---------------+----------------+\n",
      "| A1   | A2   | FE   | T1   | T2   | course_code   | student_code   |\n",
      "|------+------+------+------+------+---------------+----------------|\n",
      "+------+------+------+------+------+---------------+----------------+\n"
     ]
    }
   ],
   "source": [
    "i = randint(1, 9)\n",
    "course_code = f'CSC 10{i}'\n",
    "student_code = f'22USC10{i}'\n",
    "\n",
    "df = results.view(\n",
    "    course_code=course_code,\n",
    "    student_code=student_code,\n",
    ")\n",
    "\n",
    "print(\n",
    "    tabulate(\n",
    "        df,\n",
    "        headers='keys',\n",
    "        tablefmt='psql',\n",
    "        missingval='N/A',\n",
    "        showindex=False,\n",
    "    )\n",
    ")"
   ]
  },
  {
   "attachments": {},
   "cell_type": "markdown",
   "metadata": {},
   "source": [
    "## Users Section"
   ]
  },
  {
   "cell_type": "code",
   "execution_count": 24,
   "metadata": {},
   "outputs": [],
   "source": [
    "user = User()"
   ]
  },
  {
   "attachments": {},
   "cell_type": "markdown",
   "metadata": {},
   "source": [
    "#### Registering"
   ]
  },
  {
   "cell_type": "code",
   "execution_count": 25,
   "metadata": {},
   "outputs": [
    {
     "name": "stderr",
     "output_type": "stream",
     "text": [
      "User: 6 registered\n"
     ]
    },
    {
     "data": {
      "text/plain": [
       "True"
      ]
     },
     "execution_count": 25,
     "metadata": {},
     "output_type": "execute_result"
    }
   ],
   "source": [
    "i = str(randint(1, 9))\n",
    "user.register(username=i, password=i)"
   ]
  },
  {
   "attachments": {},
   "cell_type": "markdown",
   "metadata": {},
   "source": [
    "#### Logging in"
   ]
  },
  {
   "cell_type": "code",
   "execution_count": 26,
   "metadata": {},
   "outputs": [
    {
     "name": "stderr",
     "output_type": "stream",
     "text": [
      "User: 8 does not exist\n"
     ]
    },
    {
     "data": {
      "text/plain": [
       "False"
      ]
     },
     "execution_count": 26,
     "metadata": {},
     "output_type": "execute_result"
    }
   ],
   "source": [
    "i = str(randint(1, 9))\n",
    "user.login(username=i, password=i)"
   ]
  },
  {
   "attachments": {},
   "cell_type": "markdown",
   "metadata": {},
   "source": [
    "#### Changing password"
   ]
  },
  {
   "cell_type": "code",
   "execution_count": 27,
   "metadata": {},
   "outputs": [
    {
     "name": "stderr",
     "output_type": "stream",
     "text": [
      "User: Username not exists: 3\n"
     ]
    },
    {
     "data": {
      "text/plain": [
       "False"
      ]
     },
     "execution_count": 27,
     "metadata": {},
     "output_type": "execute_result"
    }
   ],
   "source": [
    "i = str(randint(1, 9))\n",
    "user.change_password(username=i, old_password=i, new_password=i)"
   ]
  }
 ],
 "metadata": {
  "kernelspec": {
   "display_name": ".venv",
   "language": "python",
   "name": "python3"
  },
  "language_info": {
   "codemirror_mode": {
    "name": "ipython",
    "version": 3
   },
   "file_extension": ".py",
   "mimetype": "text/x-python",
   "name": "python",
   "nbconvert_exporter": "python",
   "pygments_lexer": "ipython3",
   "version": "3.10.9"
  },
  "orig_nbformat": 4,
  "vscode": {
   "interpreter": {
    "hash": "836b947d689140733f9d64fc3b0915601adec73673026c6dc32aebb7cd61d3ac"
   }
  }
 },
 "nbformat": 4,
 "nbformat_minor": 2
}
